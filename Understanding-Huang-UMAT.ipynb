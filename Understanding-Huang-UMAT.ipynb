{
 "cells": [
  {
   "cell_type": "markdown",
   "metadata": {},
   "source": [
    "# Understanding the Huang Crystal Plasticity UMAT"
   ]
  },
  {
   "cell_type": "markdown",
   "metadata": {},
   "source": [
    "## Important subroutines"
   ]
  },
  {
   "cell_type": "markdown",
   "metadata": {},
   "source": [
    "Below are some important subroutines in the UMAT which can be modified when altering the underlying constitutive models."
   ]
  },
  {
   "cell_type": "markdown",
   "metadata": {},
   "source": [
    "| Subroutine | Locations in UMAT | Description |\n",
    "| --- | --- | --- |\n",
    "| GSLPINT() | Line: 1905 | Critical resolved shear stress (CRSS) for each slip system |\n",
    "| STRAINRATE() | Line: 1999 | The is the location of the power law being applied, e.g. $𝛾 ̇=𝛾_0 | \\frac{𝜏}{𝑔}|^𝑛$ |\n",
    "| LATENTHARDEN() | Line: 2112 | This is where your hardening model will reside, e.g. $ℎ_0  sech^2⁡| \\frac{ℎ_0 𝛾}{(𝜏_𝑠−𝜏_0 )}|$ |\n",
    "| ITERATION()| Line: 2414| Included here are the derivatives of the hardening models required to implement a Newton-Raphson solving capability |"
   ]
  },
  {
   "cell_type": "markdown",
   "metadata": {},
   "source": [
    "## Modifications to UMAT"
   ]
  },
  {
   "cell_type": "markdown",
   "metadata": {},
   "source": [
    "It is possible to modify and add your own versions of flow and hardening rules.\n",
    "Some things to consider when doing this:\n",
    "\n",
    "* We are ultimately solving for $\\Delta \\gamma^\\alpha $, we must recognise that in order to do this:\n",
    "    * Apply tangent modulus method: $\\Delta \\gamma^\\alpha = \\Delta t [(1-\\theta){\\dot{\\gamma}_t}^\\alpha + \\theta {{\\dot{\\gamma}}^\\alpha}_{t+\\Delta t} ] $, where $\\theta$ ranges from 0 to 1.\n",
    "    * Calculate the shear strain at the next increment, ${{\\dot{\\gamma}}^\\alpha}_{t+\\Delta t}$, since the previous increment, ${\\dot{\\gamma}^\\alpha}_t $\n",
    " "
   ]
  },
  {
   "cell_type": "markdown",
   "metadata": {},
   "source": [
    "So we need to solve for shear strain for the next increment (${{\\dot{\\gamma}}^\\alpha}_{t+\\Delta t}$).\n",
    "\n",
    "Using the Taylor expansion: ${\\dot{\\gamma}^\\alpha}_{t+\\Delta t} = {\\dot{\\gamma}^\\alpha}_t + ({\\dot{\\gamma}_{\\Delta t}}^\\alpha)' $ :\n",
    "\n",
    "where $({\\dot{\\gamma}_{\\Delta t}}^\\alpha)' $ is the derivative of the flow rule.\n",
    "\n",
    "Given the followig flow rule:\n",
    "${\\dot{\\gamma}}^\\alpha = {\\dot{\\gamma_0}^\\alpha} \\bigg(\\frac{|\\tau^\\alpha - X^\\alpha|}{g^\\alpha}\\bigg) sgn(\\tau^\\alpha -X^\\alpha) $\n",
    "* $\\dot{\\gamma_{\\Delta t}}^\\alpha$ is a function of $\\tau^\\alpha$, $g^\\alpha$, and $X^\\alpha$\n",
    "* Taking the derivative of this, results in the following partial derivatives:\n",
    "$(\\dot{\\gamma_\\Delta}^\\alpha)' = \\frac{\\partial \\dot{\\gamma}(\\tau^\\alpha, g^\\alpha, X^\\alpha)}{\\partial \\tau^\\alpha} \\Delta \\tau^\\alpha + \\frac{\\partial \\dot{\\gamma}(\\tau^\\alpha, g^\\alpha, X^\\alpha)}{\\partial g^\\alpha} \\Delta g^\\alpha + \\frac{\\partial \\dot{\\gamma}(\\tau^\\alpha, g^\\alpha, X^\\alpha)}{\\partial X^\\alpha} \\Delta X^\\alpha $"
   ]
  },
  {
   "cell_type": "markdown",
   "metadata": {},
   "source": [
    "Now lets take these partial derivatives of the flow rule provided.\n"
   ]
  },
  {
   "cell_type": "markdown",
   "metadata": {},
   "source": [
    "$\\frac{\\partial \\dot{\\gamma}(\\tau^\\alpha, g^\\alpha, X^\\alpha)}{\\partial \\tau^\\alpha} \\Delta \\tau^\\alpha $\n",
    "\n",
    "$ \\dot{\\gamma} = \\gamma_0 \\bigg ( \\frac{|\\tau - X|}{g} \\bigg )^n $, $\\frac{\\partial \\dot{\\gamma}}{\\partial \\tau} = \\frac{\\gamma_0 n}{g}\\bigg(\\frac{|\\tau-X|}{g} \\bigg)^{n-1} $ modification line 2103\n",
    "\n",
    "$\\Delta \\tau^\\alpha = [L_{ijkl}\\mu_{kl} + \\omega_{ik}\\sigma_{jk} + \\omega_{jk}\\sigma_{ik}] \\bigg [\\Delta \\varepsilon_{ij} - \\sum_{\\beta} \\mu_{ij} \\Delta \\gamma \\bigg ] $"
   ]
  },
  {
   "cell_type": "markdown",
   "metadata": {},
   "source": [
    "$\\frac{\\partial \\dot{\\gamma}(\\tau^\\alpha, g^\\alpha, X^\\alpha)}{\\partial g^\\alpha} \\Delta g^\\alpha$\n",
    "\n",
    "$ \\dot{\\gamma} = \\gamma_0 \\bigg ( \\frac{|\\tau - X|}{g} \\bigg )^n $, $\\frac{\\partial \\dot{\\gamma}}{\\partial g} = \\frac{-\\gamma_0 n |\\tau -X|}{g^2}\\bigg(\\frac{|\\tau-X|}{g} \\bigg)^{n-1} $ modification line 2103\n",
    "\n",
    "$\\Delta g = \\sum_\\beta \\mathbf{h}_{\\alpha \\beta} \\Delta \\gamma^\\beta$"
   ]
  },
  {
   "cell_type": "markdown",
   "metadata": {},
   "source": [
    "$\\frac{\\partial \\dot{\\gamma}(\\tau^\\alpha, g^\\alpha, X^\\alpha)}{\\partial X^\\alpha} \\Delta X^\\alpha$\n",
    "\n",
    "$ \\dot{\\gamma} = \\gamma_0 \\bigg ( \\frac{|\\tau - X|}{g} \\bigg )^n $, $\\frac{\\partial \\dot{\\gamma}}{\\partial X} = \\frac{-\\gamma_0 n}{g}\\bigg(\\frac{|\\tau-X|}{g} \\bigg)^{n-1} $ modification line 2103\n",
    "\n",
    "$\\Delta X = h \\dot{\\gamma} - h_D X |\\dot{\\gamma}|$"
   ]
  },
  {
   "cell_type": "markdown",
   "metadata": {},
   "source": [
    "So now we have all components of:\n",
    "\n",
    "$(\\dot{\\gamma_\\Delta}^\\alpha)' = \\frac{\\partial \\dot{\\gamma}(\\tau^\\alpha, g^\\alpha, X^\\alpha)}{\\partial \\tau^\\alpha} \\Delta \\tau^\\alpha + \\frac{\\partial \\dot{\\gamma}(\\tau^\\alpha, g^\\alpha, X^\\alpha)}{\\partial g^\\alpha} \\Delta g^\\alpha + \\frac{\\partial \\dot{\\gamma}(\\tau^\\alpha, g^\\alpha, X^\\alpha)}{\\partial X^\\alpha} \\Delta X^\\alpha $\n",
    "\n",
    "So now we can substitute this back into the Taylor expansion:\n",
    "$\\dot{\\gamma}_{t+\\Delta t}^\\alpha = \\dot{\\gamma_t}^\\alpha + \\frac{\\partial \\dot{\\gamma}(\\tau^\\alpha, g^\\alpha, X^\\alpha)}{\\partial \\tau^\\alpha} \\Delta \\tau^\\alpha + \\frac{\\partial \\dot{\\gamma}(\\tau^\\alpha, g^\\alpha, X^\\alpha)}{\\partial g^\\alpha} \\Delta g^\\alpha + \\frac{\\partial \\dot{\\gamma}(\\tau^\\alpha, g^\\alpha, X^\\alpha)}{\\partial X^\\alpha} \\Delta X^\\alpha $\n"
   ]
  },
  {
   "cell_type": "markdown",
   "metadata": {},
   "source": [
    "We can now substitute this into the Taylor Expansion\n",
    "And then into the tangent modulus method:\n",
    "\n",
    "$\\Delta \\gamma^\\alpha = \\Delta t [(1-\\theta)\\dot{\\gamma^\\alpha}_t + \\theta \\dot{\\gamma^\\alpha}_{t+\\Delta t} ] $"
   ]
  },
  {
   "cell_type": "code",
   "execution_count": null,
   "metadata": {},
   "outputs": [],
   "source": []
  }
 ],
 "metadata": {
  "kernelspec": {
   "display_name": "Python 3",
   "language": "python",
   "name": "python3"
  },
  "language_info": {
   "codemirror_mode": {
    "name": "ipython",
    "version": 3
   },
   "file_extension": ".py",
   "mimetype": "text/x-python",
   "name": "python",
   "nbconvert_exporter": "python",
   "pygments_lexer": "ipython3",
   "version": "3.8.5"
  }
 },
 "nbformat": 4,
 "nbformat_minor": 4
}
